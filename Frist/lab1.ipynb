{
 "cells": [
  {
   "cell_type": "code",
   "execution_count": 1,
   "id": "7fdb48e4",
   "metadata": {},
   "outputs": [],
   "source": [
    "from dotenv import load_dotenv"
   ]
  },
  {
   "cell_type": "code",
   "execution_count": 2,
   "id": "e22aa1a2",
   "metadata": {},
   "outputs": [
    {
     "data": {
      "text/plain": [
       "True"
      ]
     },
     "execution_count": 2,
     "metadata": {},
     "output_type": "execute_result"
    }
   ],
   "source": [
    "load_dotenv(override=True) "
   ]
  },
  {
   "cell_type": "code",
   "execution_count": 3,
   "id": "3797d8db",
   "metadata": {},
   "outputs": [
    {
     "name": "stdout",
     "output_type": "stream",
     "text": [
      "google API Key exists and begins AIzaSyAa\n"
     ]
    }
   ],
   "source": [
    "import os\n",
    "google_api_key = os.getenv('GOOGLE_API_KEY')\n",
    "\n",
    "if google_api_key:\n",
    "    print(f\"google API Key exists and begins {google_api_key[:8]}\")\n",
    "else:\n",
    "    print(\"google API Key not set - please head to the troubleshooting guide in the setup folder\")"
   ]
  },
  {
   "cell_type": "code",
   "execution_count": 4,
   "id": "007a5299",
   "metadata": {},
   "outputs": [],
   "source": [
    "from openai import OpenAI"
   ]
  },
  {
   "cell_type": "code",
   "execution_count": 5,
   "id": "6bcfc9d7",
   "metadata": {},
   "outputs": [
    {
     "name": "stdout",
     "output_type": "stream",
     "text": [
      "2 + 2 = 4\n"
     ]
    }
   ],
   "source": [
    "GEMINI_BASE_URL = \"https://generativelanguage.googleapis.com/v1beta/openai/\"\n",
    "\n",
    "google_api_key = os.getenv(\"GOOGLE_API_KEY\")\n",
    "\n",
    "gemini = OpenAI(base_url=GEMINI_BASE_URL, api_key=google_api_key)\n",
    "messages = [{\"role\":\"user\", \"content\": \"what is 2+2?\"}]\n",
    "\n",
    "response = gemini.chat.completions.create(\n",
    "    model=\"gemini-2.5-flash-preview-05-20\", \n",
    "    messages=messages)\n",
    "\n",
    "print(response.choices[0].message.content)"
   ]
  },
  {
   "cell_type": "code",
   "execution_count": 6,
   "id": "95b7a8ba",
   "metadata": {},
   "outputs": [],
   "source": [
    "question = \"Please propose a hard, challenging question to assess someone's IQ. Respond only with the question.\"\n",
    "messages = [{\"role\": \"user\", \"content\": question}]"
   ]
  },
  {
   "cell_type": "code",
   "execution_count": 7,
   "id": "b32b9107",
   "metadata": {},
   "outputs": [
    {
     "name": "stdout",
     "output_type": "stream",
     "text": [
      "Consider the following 3x3 matrix where each cell contains a primary outer shape, a secondary inner shape (either hollow or filled), and a number. Identify the pattern and determine the contents of the missing bottom-right cell.\n",
      "\n",
      "```\n",
      "+-------------------------+-------------------------+-------------------------+\n",
      "|                         |                         |                         |\n",
      "|  Outer: Triangle        |  Outer: Square          |  Outer: Pentagon        |\n",
      "|  Inner: Hollow Circle   |  Inner: Filled Square   |  Inner: Hollow Triangle |\n",
      "|  Number: 3              |  Number: 8              |  Number: 8              |\n",
      "|                         |                         |                         |\n",
      "+-------------------------+-------------------------+-------------------------+\n",
      "|                         |                         |                         |\n",
      "|  Outer: Square          |  Outer: Pentagon        |  Outer: Hexagon         |\n",
      "|  Inner: Filled Square   |  Inner: Hollow Triangle |  Inner: Filled Circle   |\n",
      "|  Number: 8              |  Number: 8              |  Number: 6              |\n",
      "|                         |                         |                         |\n",
      "+-------------------------+-------------------------+-------------------------+\n",
      "|                         |                         |                         |\n",
      "|  Outer: Pentagon        |  Outer: Hexagon         |                         |\n",
      "|  Inner: Hollow Triangle |  Inner: Filled Circle   |        ? ? ?            |\n",
      "|  Number: 8              |  Number: 6              |                         |\n",
      "|                         |                         |                         |\n",
      "+-------------------------+-------------------------+-------------------------+\n",
      "```\n",
      "\n",
      "Describe the Outer Shape, the Inner Shape (including whether it's Hollow or Filled), and the Number for the missing cell.\n"
     ]
    }
   ],
   "source": [
    "response = gemini.chat.completions.create(\n",
    "    model=\"gemini-2.5-flash-preview-05-20\", \n",
    "    messages=messages)\n",
    "\n",
    "question = response.choices[0].message.content\n",
    "print(question)"
   ]
  },
  {
   "cell_type": "code",
   "execution_count": 8,
   "id": "3bc053c0",
   "metadata": {},
   "outputs": [],
   "source": [
    "messages = [{\"role\": \"user\", \"content\": question}]"
   ]
  },
  {
   "cell_type": "code",
   "execution_count": 9,
   "id": "4a0bd072",
   "metadata": {},
   "outputs": [
    {
     "name": "stdout",
     "output_type": "stream",
     "text": [
      "Let's analyze the pattern for each attribute:\n",
      "\n",
      "**1. Outer Shape Pattern:**\n",
      "\n",
      "*   **Across Rows:**\n",
      "    *   Row 1: Triangle (3 sides) -> Square (4 sides) -> Pentagon (5 sides) (Sides +1)\n",
      "    *   Row 2: Square (4 sides) -> Pentagon (5 sides) -> Hexagon (6 sides) (Sides +1)\n",
      "    *   Row 3: Pentagon (5 sides) -> Hexagon (6 sides) -> ???\n",
      "*   **Down Columns:**\n",
      "    *   Column 1: Triangle (3 sides) -> Square (4 sides) -> Pentagon (5 sides) (Sides +1)\n",
      "    *   Column 2: Square (4 sides) -> Pentagon (5 sides) -> Hexagon (6 sides) (Sides +1)\n",
      "    *   Column 3: Pentagon (5 sides) -> Hexagon (6 sides) -> ???\n",
      "\n",
      "Following this consistent pattern, the number of sides for the outer shape increases by one in each step across a row or down a column.\n",
      "For the missing cell (R3C3), the outer shape should have 6 + 1 = 7 sides.\n",
      "A 7-sided polygon is a **Heptagon**.\n",
      "\n",
      "**Outer Shape for missing cell: Heptagon**\n",
      "\n",
      "---\n",
      "\n",
      "**2. Inner Shape Pattern:**\n",
      "\n",
      "Let's list the inner shapes and their fill status, and look for a sequence or relationship:\n",
      "\n",
      "*   R1C1: Hollow Circle\n",
      "*   R1C2: Filled Square\n",
      "*   R1C3: Hollow Triangle\n",
      "\n",
      "*   R2C1: Filled Square\n",
      "*   R2C2: Hollow Triangle\n",
      "*   R2C3: Filled Circle\n",
      "\n",
      "*   R3C1: Hollow Triangle\n",
      "*   R3C2: Filled Circle\n",
      "*   R3C3: ???\n",
      "\n",
      "Let's define a sequence of the distinct inner shapes we see:\n",
      "S1: Hollow Circle\n",
      "S2: Filled Square\n",
      "S3: Hollow Triangle\n",
      "S4: Filled Circle\n",
      "\n",
      "Now, let's represent the grid using these sequence numbers:\n",
      "```\n",
      "1  2  3\n",
      "2  3  4\n",
      "3  4  ?\n",
      "```\n",
      "\n",
      "The pattern is that the index of the shape in the sequence for a cell (R, C) is (R + C - 1).\n",
      "Let's verify:\n",
      "*   R1C1: (1+1-1) = 1 -> S1 (Hollow Circle) - Correct\n",
      "*   R1C2: (1+2-1) = 2 -> S2 (Filled Square) - Correct\n",
      "*   R1C3: (1+3-1) = 3 -> S3 (Hollow Triangle) - Correct\n",
      "*   R2C1: (2+1-1) = 2 -> S2 (Filled Square) - Correct\n",
      "*   R2C2: (2+2-1) = 3 -> S3 (Hollow Triangle) - Correct\n",
      "*   R2C3: (2+3-1) = 4 -> S4 (Filled Circle) - Correct\n",
      "*   R3C1: (3+1-1) = 3 -> S3 (Hollow Triangle) - Correct\n",
      "*   R3C2: (3+2-1) = 4 -> S4 (Filled Circle) - Correct\n",
      "\n",
      "For the missing cell (R3C3): (3+3-1) = 5.\n",
      "Since we only have 4 unique inner shapes in the sequence (S1, S2, S3, S4), this indicates a cyclical pattern. If we reach S4, the next in the sequence is S1 (wrapping around).\n",
      "So, S5 would be equivalent to S1.\n",
      "\n",
      "**Inner Shape for missing cell: Hollow Circle**\n",
      "\n",
      "---\n",
      "\n",
      "**3. Number Pattern:**\n",
      "\n",
      "Let's look at the numbers and relate them to the outer shape's number of sides:\n",
      "\n",
      "*   R1C1: Outer Triangle (3 sides), Number 3. (Number = Sides)\n",
      "*   R1C2: Outer Square (4 sides), Number 8.\n",
      "*   R1C3: Outer Pentagon (5 sides), Number 8.\n",
      "\n",
      "*   R2C1: Outer Square (4 sides), Number 8.\n",
      "*   R2C2: Outer Pentagon (5 sides), Number 8.\n",
      "*   R2C3: Outer Hexagon (6 sides), Number 6. (Number = Sides)\n",
      "\n",
      "*   R3C1: Outer Pentagon (5 sides), Number 8.\n",
      "*   R3C2: Outer Hexagon (6 sides), Number 6. (Number = Sides)\n",
      "*   R3C3: ???\n",
      "\n",
      "The pattern for the number seems to be:\n",
      "*   If the outer shape has 3 sides, the number is 3.\n",
      "*   If the outer shape has 6 sides, the number is 6.\n",
      "*   For any other number of sides observed (4 or 5), the number is 8.\n",
      "\n",
      "Let's apply this to the missing cell:\n",
      "*   The Outer Shape for the missing cell is a Heptagon, which has **7 sides**.\n",
      "*   7 is not 3 and not 6.\n",
      "*   Therefore, based on the pattern, the number should be 8.\n",
      "\n",
      "**Number for missing cell: 8**\n",
      "\n",
      "---\n",
      "\n",
      "**Conclusion for the missing bottom-right cell:**\n",
      "\n",
      "*   **Outer Shape:** Heptagon\n",
      "*   **Inner Shape:** Hollow Circle\n",
      "*   **Number:** 8\n"
     ]
    }
   ],
   "source": [
    "response = gemini.chat.completions.create(\n",
    "    model=\"gemini-2.5-flash-preview-05-20\", \n",
    "    messages=messages)\n",
    "\n",
    "answer = response.choices[0].message.content\n",
    "print(answer)"
   ]
  },
  {
   "cell_type": "code",
   "execution_count": 13,
   "id": "26aaedfb",
   "metadata": {},
   "outputs": [],
   "source": [
    "def get_completion(prompt, model=\"gemini-2.5-flash-preview-05-20\"):\n",
    "    messages = [{\"role\": \"user\", \"content\": prompt}]\n",
    "    response = gemini.chat.completions.create(\n",
    "        model=model,\n",
    "        messages=messages,\n",
    "        temperature=0, # this is the degree of randomness of the model's output\n",
    "    )\n",
    "    return response.choices[0].message.content"
   ]
  },
  {
   "cell_type": "code",
   "execution_count": 14,
   "id": "92d29339",
   "metadata": {},
   "outputs": [
    {
     "name": "stdout",
     "output_type": "stream",
     "text": [
      "```json\n",
      "[\n",
      "  {\n",
      "    \"book_id\": 1,\n",
      "    \"title\": \"The Chronos Cipher\",\n",
      "    \"author\": \"Dr. Aris Thorne\",\n",
      "    \"genre\": \"Sci-Fi Thriller\"\n",
      "  },\n",
      "  {\n",
      "    \"book_id\": 2,\n",
      "    \"title\": \"Whispers of the Forgotten Grove\",\n",
      "    \"author\": \"Elara Vance\",\n",
      "    \"genre\": \"Fantasy Romance\"\n",
      "  },\n",
      "  {\n",
      "    \"book_id\": 3,\n",
      "    \"title\": \"Beneath the Obsidian Sky\",\n",
      "    \"author\": \"Kaelen Reed\",\n",
      "    \"genre\": \"Dystopian Young Adult\"\n",
      "  }\n",
      "]\n",
      "```\n"
     ]
    }
   ],
   "source": [
    "prompt = f\"\"\"\n",
    "Generate a list of three made-up book titles along \\\n",
    "with their authors and genres.\n",
    "Provide them in JSON format with the following keys:\n",
    "book_id, title, author, genre.\n",
    "\"\"\"\n",
    "response = get_completion(prompt)\n",
    "print(response)"
   ]
  },
  {
   "cell_type": "code",
   "execution_count": null,
   "id": "6bd40c5e",
   "metadata": {},
   "outputs": [],
   "source": []
  }
 ],
 "metadata": {
  "kernelspec": {
   "display_name": ".venv",
   "language": "python",
   "name": "python3"
  },
  "language_info": {
   "codemirror_mode": {
    "name": "ipython",
    "version": 3
   },
   "file_extension": ".py",
   "mimetype": "text/x-python",
   "name": "python",
   "nbconvert_exporter": "python",
   "pygments_lexer": "ipython3",
   "version": "3.13.5"
  }
 },
 "nbformat": 4,
 "nbformat_minor": 5
}
