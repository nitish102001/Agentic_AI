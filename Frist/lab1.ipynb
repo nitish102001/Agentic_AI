{
 "cells": [
  {
   "cell_type": "code",
   "execution_count": 1,
   "id": "7fdb48e4",
   "metadata": {},
   "outputs": [],
   "source": [
    "from dotenv import load_dotenv"
   ]
  },
  {
   "cell_type": "code",
   "execution_count": 2,
   "id": "e22aa1a2",
   "metadata": {},
   "outputs": [
    {
     "data": {
      "text/plain": [
       "True"
      ]
     },
     "execution_count": 2,
     "metadata": {},
     "output_type": "execute_result"
    }
   ],
   "source": [
    "load_dotenv(override=True) "
   ]
  },
  {
   "cell_type": "code",
   "execution_count": 3,
   "id": "3797d8db",
   "metadata": {},
   "outputs": [
    {
     "name": "stdout",
     "output_type": "stream",
     "text": [
      "google API Key exists and begins AIzaSyAa\n"
     ]
    }
   ],
   "source": [
    "import os\n",
    "google_api_key = os.getenv('GOOGLE_API_KEY')\n",
    "\n",
    "if google_api_key:\n",
    "    print(f\"google API Key exists and begins {google_api_key[:8]}\")\n",
    "else:\n",
    "    print(\"google API Key not set - please head to the troubleshooting guide in the setup folder\")"
   ]
  },
  {
   "cell_type": "code",
   "execution_count": 4,
   "id": "007a5299",
   "metadata": {},
   "outputs": [],
   "source": [
    "from openai import OpenAI"
   ]
  },
  {
   "cell_type": "code",
   "execution_count": 5,
   "id": "6bcfc9d7",
   "metadata": {},
   "outputs": [
    {
     "name": "stdout",
     "output_type": "stream",
     "text": [
      "2 + 2 = 4\n"
     ]
    }
   ],
   "source": [
    "GEMINI_BASE_URL = \"https://generativelanguage.googleapis.com/v1beta/openai/\"\n",
    "\n",
    "google_api_key = os.getenv(\"GOOGLE_API_KEY\")\n",
    "\n",
    "gemini = OpenAI(base_url=GEMINI_BASE_URL, api_key=google_api_key)\n",
    "messages = [{\"role\":\"user\", \"content\": \"what is 2+2?\"}]\n",
    "\n",
    "response = gemini.chat.completions.create(\n",
    "    model=\"gemini-2.5-flash-preview-05-20\", \n",
    "    messages=messages)\n",
    "\n",
    "print(response.choices[0].message.content)"
   ]
  },
  {
   "cell_type": "code",
   "execution_count": 6,
   "id": "95b7a8ba",
   "metadata": {},
   "outputs": [],
   "source": [
    "question = \"Please propose a hard, challenging question to assess someone's IQ. Respond only with the question.\"\n",
    "messages = [{\"role\": \"user\", \"content\": question}]"
   ]
  },
  {
   "cell_type": "code",
   "execution_count": 7,
   "id": "b32b9107",
   "metadata": {},
   "outputs": [
    {
     "name": "stdout",
     "output_type": "stream",
     "text": [
      "Examine the 3x3 grid of figures described below. Identify the underlying patterns across rows and down columns to determine the precise characteristics of the missing figure in the bottom-right cell.\n",
      "\n",
      "Each cell in the grid contains a large outer square frame, an inner regular polygon, a specific fill for the inner polygon, an outline thickness for the inner polygon, a rotation for the inner polygon, and a number of small black dots.\n",
      "\n",
      "**Grid Description:**\n",
      "\n",
      "**Row 1:**\n",
      "*   **Cell (1,1):** A square frame containing an upright pentagon with a solid black fill and a thin outline, accompanied by 1 small black dot.\n",
      "*   **Cell (1,2):** A square frame containing an upright square with a striped fill and a thin outline, accompanied by 2 small black dots.\n",
      "*   **Cell (1,3):** A square frame containing an upright triangle with a hollow fill and a thin outline, accompanied by 3 small black dots.\n",
      "\n",
      "**Row 2:**\n",
      "*   **Cell (2,1):** A square frame containing a pentagon rotated 45 degrees clockwise, with a solid black fill and a medium outline, accompanied by 2 small black dots.\n",
      "*   **Cell (2,2):** A square frame containing a square rotated 45 degrees clockwise, with a striped fill and a medium outline, accompanied by 4 small black dots.\n",
      "*   **Cell (2,3):** A square frame containing a triangle rotated 45 degrees clockwise, with a hollow fill and a medium outline, accompanied by 6 small black dots.\n",
      "\n",
      "**Row 3:**\n",
      "*   **Cell (3,1):** A square frame containing a pentagon rotated 90 degrees clockwise, with a solid black fill and a thick outline, accompanied by 4 small black dots.\n",
      "*   **Cell (3,2):** A square frame containing a square rotated 90 degrees clockwise, with a striped fill and a thick outline, accompanied by 8 small black dots.\n",
      "*   **Cell (3,3):** **? (Missing Figure)**\n",
      "\n",
      "**What are the characteristics of the missing figure in Cell (3,3)?** Describe its inner polygon (type, fill, outline thickness, rotation) and the number of small black dots.\n"
     ]
    }
   ],
   "source": [
    "response = gemini.chat.completions.create(\n",
    "    model=\"gemini-2.5-flash-preview-05-20\", \n",
    "    messages=messages)\n",
    "\n",
    "question = response.choices[0].message.content\n",
    "print(question)"
   ]
  },
  {
   "cell_type": "code",
   "execution_count": 8,
   "id": "3bc053c0",
   "metadata": {},
   "outputs": [],
   "source": [
    "messages = [{\"role\": \"user\", \"content\": question}]"
   ]
  },
  {
   "cell_type": "code",
   "execution_count": 9,
   "id": "4a0bd072",
   "metadata": {},
   "outputs": [
    {
     "name": "stdout",
     "output_type": "stream",
     "text": [
      "Let's break down the patterns for each characteristic across the grid.\n",
      "\n",
      "**1. Inner Regular Polygon (Type):**\n",
      "*   **Column 1:** Always a pentagon.\n",
      "*   **Column 2:** Always a square.\n",
      "*   **Column 3:** Always a triangle.\n",
      "*   **Conclusion for (3,3):** The inner polygon is a **triangle**.\n",
      "\n",
      "**2. Fill:**\n",
      "*   **Column 1:** Always solid black.\n",
      "*   **Column 2:** Always striped.\n",
      "*   **Column 3:** Always hollow.\n",
      "*   **Conclusion for (3,3):** The fill is **hollow**.\n",
      "\n",
      "**3. Outline Thickness:**\n",
      "*   **Row 1:** Thin\n",
      "*   **Row 2:** Medium\n",
      "*   **Row 3:** Thick\n",
      "*   **Conclusion for (3,3):** The outline thickness is **thick**.\n",
      "\n",
      "**4. Rotation:**\n",
      "*   **Row 1:** Upright\n",
      "*   **Row 2:** 45 degrees clockwise\n",
      "*   **Row 3:** 90 degrees clockwise\n",
      "*   **Conclusion for (3,3):** The rotation is **90 degrees clockwise**.\n",
      "\n",
      "**5. Number of Small Black Dots:**\n",
      "\n",
      "Let's examine the numbers:\n",
      "*   **Row 1:** 1, 2, 3 (Increases by 1 across the row)\n",
      "*   **Row 2:** 2, 4, 6 (Each number is double the corresponding number in Row 1. Also increases by 2 across the row)\n",
      "*   **Row 3:** 4, 8, ?\n",
      "\n",
      "Let's look at the columns:\n",
      "*   **Column 1:** 1, 2, 4 (Each number is double the one above it: 1x2=2, 2x2=4)\n",
      "*   **Column 2:** 2, 4, 8 (Each number is double the one above it: 2x2=4, 4x2=8)\n",
      "*   **Column 3:** 3, 6, ? (Following the same pattern, each number should be double the one above it: 3x2=6, 6x2=12)\n",
      "\n",
      "This pattern is consistent across both rows and columns.\n",
      "*   **Conclusion for (3,3):** The number of small black dots is **12**.\n",
      "\n",
      "---\n",
      "\n",
      "**Characteristics of the missing figure in Cell (3,3):**\n",
      "\n",
      "The missing figure will be a square frame containing an inner polygon with the following characteristics:\n",
      "\n",
      "*   **Inner Polygon Type:** Triangle\n",
      "*   **Fill:** Hollow\n",
      "*   **Outline Thickness:** Thick\n",
      "*   **Rotation:** 90 degrees clockwise\n",
      "*   **Number of Small Black Dots:** 12\n"
     ]
    }
   ],
   "source": [
    "response = gemini.chat.completions.create(\n",
    "    model=\"gemini-2.5-flash-preview-05-20\", \n",
    "    messages=messages)\n",
    "\n",
    "answer = response.choices[0].message.content\n",
    "print(answer)"
   ]
  },
  {
   "cell_type": "code",
   "execution_count": 13,
   "id": "26aaedfb",
   "metadata": {},
   "outputs": [],
   "source": [
    "def get_completion(prompt, model=\"gemini-2.5-flash-preview-05-20\"):\n",
    "    messages = [{\"role\": \"user\", \"content\": prompt}]\n",
    "    response = gemini.chat.completions.create(\n",
    "        model=model,\n",
    "        messages=messages,\n",
    "        temperature=0, # this is the degree of randomness of the model's output\n",
    "    )\n",
    "    return response.choices[0].message.content"
   ]
  },
  {
   "cell_type": "code",
   "execution_count": 14,
   "id": "92d29339",
   "metadata": {},
   "outputs": [
    {
     "name": "stdout",
     "output_type": "stream",
     "text": [
      "```json\n",
      "[\n",
      "  {\n",
      "    \"book_id\": 1,\n",
      "    \"title\": \"The Chronos Cipher\",\n",
      "    \"author\": \"Dr. Aris Thorne\",\n",
      "    \"genre\": \"Sci-Fi Thriller\"\n",
      "  },\n",
      "  {\n",
      "    \"book_id\": 2,\n",
      "    \"title\": \"Whispers of the Forgotten Grove\",\n",
      "    \"author\": \"Elara Vance\",\n",
      "    \"genre\": \"Fantasy Romance\"\n",
      "  },\n",
      "  {\n",
      "    \"book_id\": 3,\n",
      "    \"title\": \"Beneath the Obsidian Sky\",\n",
      "    \"author\": \"Kaelen Reed\",\n",
      "    \"genre\": \"Dystopian Young Adult\"\n",
      "  }\n",
      "]\n",
      "```\n"
     ]
    }
   ],
   "source": [
    "prompt = f\"\"\"\n",
    "Generate a list of three made-up book titles along \\\n",
    "with their authors and genres.\n",
    "Provide them in JSON format with the following keys:\n",
    "book_id, title, author, genre.\n",
    "\"\"\"\n",
    "response = get_completion(prompt)\n",
    "print(response)"
   ]
  },
  {
   "cell_type": "code",
   "execution_count": null,
   "id": "6bd40c5e",
   "metadata": {},
   "outputs": [],
   "source": []
  }
 ],
 "metadata": {
  "kernelspec": {
   "display_name": ".venv",
   "language": "python",
   "name": "python3"
  },
  "language_info": {
   "codemirror_mode": {
    "name": "ipython",
    "version": 3
   },
   "file_extension": ".py",
   "mimetype": "text/x-python",
   "name": "python",
   "nbconvert_exporter": "python",
   "pygments_lexer": "ipython3",
   "version": "3.13.5"
  }
 },
 "nbformat": 4,
 "nbformat_minor": 5
}
