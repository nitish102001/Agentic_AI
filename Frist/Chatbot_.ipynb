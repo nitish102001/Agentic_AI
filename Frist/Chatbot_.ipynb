{
 "cells": [
  {
   "cell_type": "code",
   "execution_count": 15,
   "id": "4738f70f",
   "metadata": {},
   "outputs": [],
   "source": [
    "from dotenv import load_dotenv\n",
    "from openai import OpenAI\n",
    "from PyPDF2 import PdfReader\n",
    "import gradio as gr"
   ]
  },
  {
   "cell_type": "code",
   "execution_count": 16,
   "id": "0b0d7c9e",
   "metadata": {},
   "outputs": [],
   "source": [
    "load_dotenv(override=True) \n",
    "from openai import OpenAI\n"
   ]
  },
  {
   "cell_type": "code",
   "execution_count": 18,
   "id": "7e76cd6f",
   "metadata": {},
   "outputs": [],
   "source": [
    "read_pdf = PdfReader(\"mee/Nitish_Resume.pdf\")\n",
    "linkedin = ''\n",
    "for page in read_pdf.pages:\n",
    "    text = page.extract_text()\n",
    "    if text:\n",
    "        linkedin +=text\n"
   ]
  },
  {
   "cell_type": "code",
   "execution_count": 20,
   "id": "0710e156",
   "metadata": {},
   "outputs": [
    {
     "name": "stdout",
     "output_type": "stream",
     "text": [
      "NITISH ADGAONKAR  \n",
      "Machine Learning | Automation  | GenAI  \n",
      "+91 8208321376 | nitishadgaonkar@gmail.com  | \n",
      "https://github.com/nitish102001  | https://www.linkedin.com/in/nitish -adgaonkar -4986181a4/  \n",
      " \n",
      "SUMM ARY \n",
      " \n",
      "Results -driven data professional with 3+ years of experience in Python automation, machine learning, \n",
      "and software development. Skilled in building automation libraries, computer vision (OpenCV, \n",
      "pytesseract), and deploying ML models. Experienced in Generati ve AI and prompt engineering to \n",
      "extract insights from unstructured data. Proficient in Python, deep learning (TensorFlow, Keras), \n",
      "Azure, and Agile -based test automation (BDD, HIL, Keyword -Driven) in automotive domain . \n",
      " \n",
      "PROFESSIONAL EXPERIENCE  \n",
      " \n",
      "TATA CONSULTANCY SERVICES  08/2022  – Present  \n",
      "System  Engineer  \n",
      "       PROJECT : Jaguar Land Rover - Software Update Over the Air . \n",
      "• Designed and developed end -to-end Python  automation libraries to streamline ECU software \n",
      "updates, integrating test execution, data validation, and result aggregation — significantly \n",
      "improving development cycle efficiency.  \n",
      "• Built a computer vision -based Python library using OpenCV and Tesseract OCR to automate \n",
      "infotainment screen validation. Implemented image comparison, icon detection, and text \n",
      "recognition pipelines for robust UI validation.  \n",
      "• Engineered structured features from unstructured ECU system logs and test data using Pandas \n",
      "and Scikit -learn. Applied prompt engineering and NLP techniques to convert raw logs into \n",
      "tabular datasets, enabling advanced analysis and real -time issue detection.  \n",
      "• Performed Exploratory Data Analysis (EDA) using Seaborn and Matplotlib to uncover insights \n",
      "from test results and failure patterns, helping improve testing strategies and anomaly detection \n",
      "processes.  \n",
      "• Executed large -scale automated tests on HIL (Hardware -in-the-Loop) systems, monitored \n",
      "overnight test logs, and deployed failure analysis workflows on cloud servers to ensure high \n",
      "system reliability and traceability.  \n",
      "• Developed behavior -driven testing scripts using Cucumber and Keyword -Driven Testing, \n",
      "aligning automated validation workflows with business logic and enhancing cross -functional \n",
      "collaboration.  \n",
      "• Developed and debugged a script s for SOME/IP services used in ECU client/server \n",
      "communication.   \n",
      "• Continuously engaged with clients, and updated automation libraries according to the \n",
      "requirements received each quarter.  \n",
      "• Implemented Agile methodologies across the project lifecycle to enhance adaptability, \n",
      "collaboration, and efficiency . \n",
      "• Provided training to new team members, and outlined the project workflow in detail s. \n",
      " SKILLS\n",
      " \n",
      "• Python , C++ , SQL , Object Oriented Programming.  \n",
      "• Data Structures and Algorithms , Microsoft Azure.  \n",
      "• Machine Learning, Deep Learning (TensorFlow, Keras).  \n",
      "• Exploratory Data Analysis (EDA), NLP, GenAI , Prompt Engineering . \n",
      "• Test Automation (BDD  Cucumber, Keyword -Driven Testing , HIL Testing ). \n",
      "• Agile Methodologies, Git, Jira, Confluence.  \n",
      " \n",
      "EDUCATION  \n",
      " \n",
      "• Bachelor of Techonology :  Information Technology . \n",
      " MGM's Jawaharlal Nehru Engineering Collage.                                                              06/2022  \n",
      " CGPA : 8.94  \n",
      " \n",
      "PROJECTS  \n",
      " \n",
      "• Sentiment Analysis on Product Reviews . \n",
      " \n",
      "o Developed this project to analyze human sentiment in text -based formats, such as \n",
      "reviews and comments.  \n",
      "o Utilized the Amazon Reviews dataset to train the model using the Logistic Regression \n",
      "algorithm. Scraped reviews from an e - commerce website for testing,  achieving an \n",
      "accuracy of 89%  \n",
      " \n",
      "• Loan Payback  Prediction . \n",
      " \n",
      "o Performed Exploratory Data Analysis (EDA) on the given dataset using Seaborn and \n",
      "pandas to gain a comprehensive understanding of the data.  \n",
      "o Developed and trained a Sequential model with 4 dense layers using the ReLU \n",
      "activation function, achieving an accuracy of 89%.  \n",
      " \n",
      "CERTIFI CATIONS  \n",
      " \n",
      "• Micro soft Certified Azure Fundamentals AZ -900 \n",
      "• Google Cloud Certified Associate Cloud Engin eer \n",
      "• Microsoft Certified Power BI Data Analyst  PL-300 \n",
      " \n",
      "HOBBIES  \n",
      " \n",
      "• Listening To Music  \n",
      "• Playing Chess  \n",
      "• Playing Cricket and Football  \n"
     ]
    }
   ],
   "source": [
    "print(linkedin)"
   ]
  },
  {
   "cell_type": "code",
   "execution_count": 21,
   "id": "712d7c60",
   "metadata": {},
   "outputs": [],
   "source": [
    "with open(\"mee/summery.txt\",'r', encoding=\"utf-8\") as file:\n",
    "    summary = file.read()"
   ]
  },
  {
   "cell_type": "code",
   "execution_count": 14,
   "id": "c84e217d",
   "metadata": {},
   "outputs": [],
   "source": [
    "name = 'Nitish Adgaonkar'"
   ]
  },
  {
   "cell_type": "code",
   "execution_count": 22,
   "id": "91cdef38",
   "metadata": {},
   "outputs": [],
   "source": [
    "system_prompt = f\"You are acting as {name}. You are answering questions on {name}'s website, \\\n",
    "particularly questions related to {name}'s career, background, skills and experience. \\\n",
    "Your responsibility is to represent {name} for interactions on the website as faithfully as possible. \\\n",
    "You are given a summary of {name}'s background and LinkedIn profile which you can use to answer questions. \\\n",
    "Be professional and engaging, as if talking to a potential client or future employer who came across the website. \\\n",
    "If you don't know the answer, say so.\"\n",
    "\n",
    "system_prompt += f\"\\n\\n## Summary:\\n{summary}\\n\\n## LinkedIn Profile:\\n{linkedin}\\n\\n\"\n",
    "system_prompt += f\"With this context, please chat with the user, always staying in character as {name}.\""
   ]
  },
  {
   "cell_type": "code",
   "execution_count": 26,
   "id": "f91ce98e",
   "metadata": {},
   "outputs": [
    {
     "data": {
      "text/plain": [
       "\"You are acting as Nitish Adgaonkar. You are answering questions on Nitish Adgaonkar's website, particularly questions related to Nitish Adgaonkar's career, background, skills and experience. Your responsibility is to represent Nitish Adgaonkar for interactions on the website as faithfully as possible. You are given a summary of Nitish Adgaonkar's background and LinkedIn profile which you can use to answer questions. Be professional and engaging, as if talking to a potential client or future employer who came across the website. If you don't know the answer, say so.\\n\\n## Summary:\\nMy Name is Nitish Adgaonkar, i am a working professional, as a Automation and ML enginner, i am originally form aurangabad, currently located at Pune , living in pune from 2022 ,I love all foods only Veg Btw,I love football,cricket and also chess,\\ni am learning about AI LLMs and GenAI aslo Agentic AI and prompt engg i aspire to be a AI enginner.\\n\\n\\n## LinkedIn Profile:\\nNITISH ADGAONKAR  \\nMachine Learning | Automation  | GenAI  \\n+91 8208321376 | nitishadgaonkar@gmail.com  | \\nhttps://github.com/nitish102001  | https://www.linkedin.com/in/nitish -adgaonkar -4986181a4/  \\n \\nSUMM ARY \\n \\nResults -driven data professional with 3+ years of experience in Python automation, machine learning, \\nand software development. Skilled in building automation libraries, computer vision (OpenCV, \\npytesseract), and deploying ML models. Experienced in Generati ve AI and prompt engineering to \\nextract insights from unstructured data. Proficient in Python, deep learning (TensorFlow, Keras), \\nAzure, and Agile -based test automation (BDD, HIL, Keyword -Driven) in automotive domain . \\n \\nPROFESSIONAL EXPERIENCE  \\n \\nTATA CONSULTANCY SERVICES  08/2022  – Present  \\nSystem  Engineer  \\n       PROJECT : Jaguar Land Rover - Software Update Over the Air . \\n• Designed and developed end -to-end Python  automation libraries to streamline ECU software \\nupdates, integrating test execution, data validation, and result aggregation — significantly \\nimproving development cycle efficiency.  \\n• Built a computer vision -based Python library using OpenCV and Tesseract OCR to automate \\ninfotainment screen validation. Implemented image comparison, icon detection, and text \\nrecognition pipelines for robust UI validation.  \\n• Engineered structured features from unstructured ECU system logs and test data using Pandas \\nand Scikit -learn. Applied prompt engineering and NLP techniques to convert raw logs into \\ntabular datasets, enabling advanced analysis and real -time issue detection.  \\n• Performed Exploratory Data Analysis (EDA) using Seaborn and Matplotlib to uncover insights \\nfrom test results and failure patterns, helping improve testing strategies and anomaly detection \\nprocesses.  \\n• Executed large -scale automated tests on HIL (Hardware -in-the-Loop) systems, monitored \\novernight test logs, and deployed failure analysis workflows on cloud servers to ensure high \\nsystem reliability and traceability.  \\n• Developed behavior -driven testing scripts using Cucumber and Keyword -Driven Testing, \\naligning automated validation workflows with business logic and enhancing cross -functional \\ncollaboration.  \\n• Developed and debugged a script s for SOME/IP services used in ECU client/server \\ncommunication.   \\n• Continuously engaged with clients, and updated automation libraries according to the \\nrequirements received each quarter.  \\n• Implemented Agile methodologies across the project lifecycle to enhance adaptability, \\ncollaboration, and efficiency . \\n• Provided training to new team members, and outlined the project workflow in detail s. \\n SKILLS\\n \\n• Python , C++ , SQL , Object Oriented Programming.  \\n• Data Structures and Algorithms , Microsoft Azure.  \\n• Machine Learning, Deep Learning (TensorFlow, Keras).  \\n• Exploratory Data Analysis (EDA), NLP, GenAI , Prompt Engineering . \\n• Test Automation (BDD  Cucumber, Keyword -Driven Testing , HIL Testing ). \\n• Agile Methodologies, Git, Jira, Confluence.  \\n \\nEDUCATION  \\n \\n• Bachelor of Techonology :  Information Technology . \\n MGM's Jawaharlal Nehru Engineering Collage.                                                              06/2022  \\n CGPA : 8.94  \\n \\nPROJECTS  \\n \\n• Sentiment Analysis on Product Reviews . \\n \\no Developed this project to analyze human sentiment in text -based formats, such as \\nreviews and comments.  \\no Utilized the Amazon Reviews dataset to train the model using the Logistic Regression \\nalgorithm. Scraped reviews from an e - commerce website for testing,  achieving an \\naccuracy of 89%  \\n \\n• Loan Payback  Prediction . \\n \\no Performed Exploratory Data Analysis (EDA) on the given dataset using Seaborn and \\npandas to gain a comprehensive understanding of the data.  \\no Developed and trained a Sequential model with 4 dense layers using the ReLU \\nactivation function, achieving an accuracy of 89%.  \\n \\nCERTIFI CATIONS  \\n \\n• Micro soft Certified Azure Fundamentals AZ -900 \\n• Google Cloud Certified Associate Cloud Engin eer \\n• Microsoft Certified Power BI Data Analyst  PL-300 \\n \\nHOBBIES  \\n \\n• Listening To Music  \\n• Playing Chess  \\n• Playing Cricket and Football  \\n\\nWith this context, please chat with the user, always staying in character as Nitish Adgaonkar.\""
      ]
     },
     "execution_count": 26,
     "metadata": {},
     "output_type": "execute_result"
    }
   ],
   "source": [
    "system_prompt"
   ]
  },
  {
   "cell_type": "code",
   "execution_count": 24,
   "id": "8b095f3b",
   "metadata": {},
   "outputs": [],
   "source": [
    "import os"
   ]
  },
  {
   "cell_type": "code",
   "execution_count": 25,
   "id": "67be68c3",
   "metadata": {},
   "outputs": [],
   "source": [
    "GEMINI_BASE_URL = \"https://generativelanguage.googleapis.com/v1beta/openai/\"\n",
    "\n",
    "google_api_key = os.getenv(\"GOOGLE_API_KEY\")\n",
    "\n",
    "gemini = OpenAI(base_url=GEMINI_BASE_URL, api_key=google_api_key)"
   ]
  },
  {
   "cell_type": "code",
   "execution_count": 27,
   "id": "8d7dadf5",
   "metadata": {},
   "outputs": [],
   "source": [
    "def chat(message, history):\n",
    "    messages = [{\"role\": \"system\", \"content\": system_prompt}] + history + [{\"role\": \"user\", \"content\": message}]\n",
    "    response = gemini.chat.completions.create(\n",
    "        model=\"gemini-2.5-flash-preview-05-20\", \n",
    "        messages=messages\n",
    "    )\n",
    "    return response.choices[0].message.content"
   ]
  },
  {
   "cell_type": "code",
   "execution_count": 28,
   "id": "71839419",
   "metadata": {},
   "outputs": [
    {
     "name": "stdout",
     "output_type": "stream",
     "text": [
      "* Running on local URL:  http://127.0.0.1:7860\n",
      "* To create a public link, set `share=True` in `launch()`.\n"
     ]
    },
    {
     "data": {
      "text/html": [
       "<div><iframe src=\"http://127.0.0.1:7860/\" width=\"100%\" height=\"500\" allow=\"autoplay; camera; microphone; clipboard-read; clipboard-write;\" frameborder=\"0\" allowfullscreen></iframe></div>"
      ],
      "text/plain": [
       "<IPython.core.display.HTML object>"
      ]
     },
     "metadata": {},
     "output_type": "display_data"
    },
    {
     "data": {
      "text/plain": []
     },
     "execution_count": 28,
     "metadata": {},
     "output_type": "execute_result"
    }
   ],
   "source": [
    "gr.ChatInterface(chat,type='messages').launch()"
   ]
  },
  {
   "cell_type": "code",
   "execution_count": null,
   "id": "9b0b9cb0",
   "metadata": {},
   "outputs": [],
   "source": []
  },
  {
   "cell_type": "code",
   "execution_count": null,
   "id": "a8ca1aa0",
   "metadata": {},
   "outputs": [],
   "source": []
  },
  {
   "cell_type": "code",
   "execution_count": null,
   "id": "c3d4842f",
   "metadata": {},
   "outputs": [],
   "source": []
  },
  {
   "cell_type": "code",
   "execution_count": null,
   "id": "4de51db3",
   "metadata": {},
   "outputs": [],
   "source": []
  }
 ],
 "metadata": {
  "kernelspec": {
   "display_name": ".venv",
   "language": "python",
   "name": "python3"
  },
  "language_info": {
   "codemirror_mode": {
    "name": "ipython",
    "version": 3
   },
   "file_extension": ".py",
   "mimetype": "text/x-python",
   "name": "python",
   "nbconvert_exporter": "python",
   "pygments_lexer": "ipython3",
   "version": "3.13.5"
  }
 },
 "nbformat": 4,
 "nbformat_minor": 5
}
